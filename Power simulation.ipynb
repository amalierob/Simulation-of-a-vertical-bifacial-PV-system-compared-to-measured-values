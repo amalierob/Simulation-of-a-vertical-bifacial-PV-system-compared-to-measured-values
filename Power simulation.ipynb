{
 "cells": [
  {
   "cell_type": "markdown",
   "id": "2fa2d443",
   "metadata": {},
   "source": [
    "# Simulating the power"
   ]
  },
  {
   "cell_type": "markdown",
   "id": "4d0417f4",
   "metadata": {},
   "source": [
    "### Importing the necessasy packages"
   ]
  },
  {
   "cell_type": "code",
   "execution_count": null,
   "id": "290bde10",
   "metadata": {},
   "outputs": [],
   "source": [
    "import pvlib\n",
    "import pandas as pd"
   ]
  },
  {
   "cell_type": "markdown",
   "id": "e8e49155",
   "metadata": {},
   "source": [
    "### Importing measured temperature from the reference cells"
   ]
  },
  {
   "cell_type": "code",
   "execution_count": null,
   "id": "db0b2176",
   "metadata": {},
   "outputs": [],
   "source": [
    "temp = pd.read_csv(r'path...\\filename.csv', sep = ';')                   # Importing the file with measured temperature\n",
    "temp = temp.set_index('Timestamp')                                       # Setting the timestamps to be the index\n",
    "temp.index = pd.to_datetime(temp.index)                                  # Converting the index to date-time\n",
    "\n",
    "# Localizing the timezone and handling daylight saving time\n",
    "temp = temp.tz_localize('CET', ambiguous = False, nonexistent = 'NaT')  \n",
    "temp.loc[temp.index.dropna()]                                            # Removing NaN values\n",
    "temp = temp.tz_convert('UTC')                                            # Converting the timezone to UTC\n",
    "\n",
    "temp = temp.loc[temp.index.strftime('%M:%S') == '30:00']                 # Selecting hourly data for 11:30 PM, 12:30 AM etc.\n",
    "\n",
    "temp['average'] = temp.mean(axis = 1)                                    # Calculating the average temperature"
   ]
  },
  {
   "cell_type": "markdown",
   "id": "40eeaf85",
   "metadata": {},
   "source": [
    "For simulating the power, it was assumed that all the solar panels have the same, average temperature."
   ]
  },
  {
   "cell_type": "markdown",
   "id": "1e429510",
   "metadata": {},
   "source": [
    "### Importing measured irradiance from the reference cells"
   ]
  },
  {
   "cell_type": "code",
   "execution_count": null,
   "id": "544ebe2c",
   "metadata": {},
   "outputs": [],
   "source": [
    "irr_ref = pd.read_csv(r'path...\\filename.csv', sep = ';')    \n",
    "irr_ref = irr_ref.set_index('Timestamp')\n",
    "irr_ref.index = pd.to_datetime(irr_ref.index)\n",
    "\n",
    "irr_ref = irr_ref.tz_localize('CET', ambiguous = False, nonexistent = 'NaT')\n",
    "irr_ref.loc[irr_ref.index.dropna()]\n",
    "irr_ref = irr_ref.tz_convert('UTC')\n",
    "\n",
    "irr_ref = irr_ref.loc[irr_ref.index.strftime('%M:%S') == '30:00']"
   ]
  },
  {
   "cell_type": "markdown",
   "id": "333f4bf3",
   "metadata": {},
   "source": [
    "### Importing simulated irradiance from bifacial_radiance"
   ]
  },
  {
   "cell_type": "code",
   "execution_count": null,
   "id": "8162df5f",
   "metadata": {},
   "outputs": [],
   "source": [
    "irr_bf1 = pd.read_csv(r'path...\\filename.csv')    # Importing the irradiance results for reference cell 1\n",
    "irr_bf2 = pd.read_csv(r'path...\\filename.csv')    # Importing the irradiance results for reference cell 2\n",
    "irr_bf3 = pd.read_csv(r'path...\\filename.csv')    # Importing the irradiance results for reference cell 3\n",
    "\n",
    "# Setting the timestamp to be the index and converting the index to date-time\n",
    "irr_bf1 = irr_bf1.set_index('Unnamed: 0')         \n",
    "irr_bf1.index = pd.to_datetime(irr_bf1.index)     \n",
    "irr_bf2 = irr_bf2.set_index('Unnamed: 0')\n",
    "irr_bf2.index = pd.to_datetime(irr_bf2.index)\n",
    "irr_bf3 = irr_bf3.set_index('Unnamed: 0')\n",
    "irr_bf3.index = pd.to_datetime(irr_bf3.index)\n",
    "\n",
    "# Renaming the columns ( E - east, W - west)\n",
    "irr_bf1.rename(columns = {'east_irradiance':'E - reference cell 1','west_irradiance':'W - reference cell 1'}, inplace=True) \n",
    "irr_bf2.rename(columns = {'east_irradiance':'E - reference cell 2','west_irradiance':'W - reference cell 2'}, inplace=True)\n",
    "irr_bf3.rename(columns = {'east_irradiance':'E - reference cell 3','west_irradiance':'W - reference cell 3'}, inplace=True)\n",
    "\n",
    "# Saving the irradiance from all the three reference cells into one dataframe\n",
    "irradiance = pd.DataFrame()\n",
    "irradiance['E - reference cell 1'] = irr_bf1['E - reference cell 1']\n",
    "irradiance['W - reference cell 1'] = irr_bf1['W - reference cell 1']\n",
    "irradiance['E - reference cell 2'] = irr_bf2['E - reference cell 2']\n",
    "irradiance['W - reference cell 2'] = irr_bf2['W - reference cell 2']\n",
    "irradiance['E - reference cell 3'] = irr_bf3['E - reference cell 3']\n",
    "irradiance['W - reference cell 3'] = irr_bf3['W - reference cell 3']\n",
    "\n",
    "irradiance = irradiance.tz_localize('UTC')                          # Localizing the timezone\n",
    "irradiance.index = (irradiance.index + pd.Timedelta(minutes=-30))   # Changing the timestamp from 11:00 PM to 10:30 PM etc."
   ]
  },
  {
   "cell_type": "markdown",
   "id": "31485c0a",
   "metadata": {},
   "source": [
    "### Total average irradiance a solar panel when the bifaciality factor is taken into account"
   ]
  },
  {
   "cell_type": "code",
   "execution_count": null,
   "id": "33696e36",
   "metadata": {},
   "outputs": [],
   "source": [
    "# Calculating the total average irradiance on the east and the west side\n",
    "irradiance['avg_east'] = irradiance[['E - reference cell 1','E - reference cell 2','E - reference cell 3']].mean(axis = 1)\n",
    "irradiance['avg_west'] = irradiance[['W - reference cell 1','W - reference cell 2','W - reference cell 3']].mean(axis = 1)\n",
    "irr_ref['avg_east'] = irr_ref[['ITS6_center_east','ITS4_east_east','ITS2_west_east']].mean(axis = 1)\n",
    "irr_ref['avg_west'] = irr_ref[['ITS5_center_west','ITS3_east_west','ITS1_west_west']].mean(axis = 1)\n",
    "\n",
    "# Calculating the total average irradiance for a solar panel and taking the bifaciality factor into account\n",
    "irradiance['tot_irradiation'] = irradiance['avg_west'] + (0.786 * irradiance['avg_east'])\n",
    "irr_ref['tot_irradiation'] = irr_ref['avg_west'] + (0.786 * irr_ref['avg_east'])"
   ]
  },
  {
   "cell_type": "markdown",
   "id": "59563e8e",
   "metadata": {},
   "source": [
    "### Importing the measured DC and AC power"
   ]
  },
  {
   "cell_type": "code",
   "execution_count": null,
   "id": "2226b467",
   "metadata": {},
   "outputs": [],
   "source": [
    "ac_inverter = pd.read_csv(r'path...\\filename.csv')\n",
    "dc_inverter = pd.read_csv(r'path...\\filename.csv')\n",
    "\n",
    "ac_inverter = ac_inverter.set_index('Time')\n",
    "ac_inverter.index = pd.to_datetime(ac_inverter.index)\n",
    "ac_inverter = ac_inverter.tz_localize('CET', ambiguous = False, nonexistent = 'NaT')\n",
    "ac_inverter.loc[ac_inverter.index.dropna()]\n",
    "ac_inverter = ac_inverter.tz_convert('UTC')\n",
    "\n",
    "dc_inverter = dc_inverter.set_index('Time')\n",
    "dc_inverter.index = pd.to_datetime(dc_inverter.index)\n",
    "dc_inverter = dc_inverter.tz_localize('CET', ambiguous = False, nonexistent = 'NaT')\n",
    "dc_inverter.loc[dc_inverter.index.dropna()]\n",
    "dc_inverter = dc_inverter.tz_convert('UTC')\n",
    "\n",
    "ac_inverter = ac_inverter.loc[ac_inverter.index.strftime('%M:%S') == '30:00']\n",
    "dc_inverter = dc_inverter.loc[dc_inverter.index.strftime('%M:%S') == '30:00']"
   ]
  },
  {
   "cell_type": "markdown",
   "id": "8b2d2a70",
   "metadata": {},
   "source": [
    "### Selecting timestamps for the power simulation"
   ]
  },
  {
   "cell_type": "code",
   "execution_count": null,
   "id": "6adeff76",
   "metadata": {},
   "outputs": [],
   "source": [
    "# Definining start and end time \n",
    "start = '2023-03-01 07:30:00'\n",
    "ende = '2023-03-01 16:30:00'\n",
    "\n",
    "# Selecting data from the dataframes\n",
    "temp = temp[start:end]\n",
    "irr_ref = irr_ref[start:end]\n",
    "irradiance = irradiance[start:end]\n",
    "ac_inverter = ac_inverter[start:end]\n",
    "dc_inverter = dc_inverter[start:end]"
   ]
  },
  {
   "cell_type": "markdown",
   "id": "28b6e9aa",
   "metadata": {},
   "source": [
    "### Simulating the DC power with pvwatts"
   ]
  },
  {
   "cell_type": "code",
   "execution_count": null,
   "id": "2c028bbe",
   "metadata": {},
   "outputs": [],
   "source": [
    "temp_cell = temp['average']                        # The avarage temperature\n",
    "pdc0 = 40*36                                       # The installed capacity on the test site with 36 solar panels\n",
    "gamma_pdc = -0.00370                               # [1/C]\n",
    "\n",
    "g_poa_effective_ref = irr_ref['tot_irradiation']   # The total average irradiance from measured irradiance\n",
    "g_poa_effective = irradiance['tot_irradiation']    # The total average irradiance from simulated irradiance\n",
    "\n",
    "# DC power from measured irradiance\n",
    "dc_power_pvwatts_ref = pvlib.pvsystem.pvwatts_dc(g_poa_effective, temp_cell, pdc0, gamma_pdc)\n",
    "\n",
    "# DC power from simulated irradiance\n",
    "dc_power_pvwatts = pvlib.pvsystem.pvwatts_dc(g_poa_effective, temp_cell, pdc0, gamma_pdc)"
   ]
  },
  {
   "cell_type": "markdown",
   "id": "746e2f9a",
   "metadata": {},
   "source": [
    "### Simulating the DC power with singlediode"
   ]
  },
  {
   "cell_type": "code",
   "execution_count": null,
   "id": "8e55a2d8",
   "metadata": {},
   "outputs": [],
   "source": [
    "celltype = 'monoSi'\n",
    "v_mp = 7.981                 # Voltage [V] at MPP \n",
    "i_mp = 4.944                 # Current [A] at MPP\n",
    "v_oc = 9.538                 # Open cicuit voltage [V]\n",
    "i_sc = 5.187                 # Short circuit current [A]\n",
    "alpha_sc = 0.0006 * 5.187    # Temperature coefficient at short circuit [A/C]\n",
    "beta_voc = -0.003 * 9.538    # Temperature coefficient at open circuit [V/C]\n",
    "gamma_pmp = -0.370           # Temperature coefficient at MPP [%/C]\n",
    "cells_in_series = 14\n",
    "\n",
    "measurements = pvlib.ivtools.sdm.fit_cec_sam(celltype, v_mp, i_mp, v_oc, i_sc, alpha_sc, beta_voc, gamma_pmp, cells_in_series)\n",
    "\n",
    "I_L_ref = measurements[0]                               # Light generated current [A] at 25 degrees\n",
    "I_o_ref = measurements[1]                               # Diode reverse saturation current [A] at 25 degrees\n",
    "R_s = measurements[2]                                   # Series resistance [ohm] at 25 degrees\n",
    "R_sh_ref = measurements[3]                              # Shunt resistance [ohm] at 25 degrees \n",
    "a_ref = measurements[4]                                 # Adjustment of temperature coefficient\n",
    "adjust = measurements[5]                                "
   ]
  },
  {
   "cell_type": "code",
   "execution_count": null,
   "id": "e76615bb",
   "metadata": {},
   "outputs": [],
   "source": [
    "# Simulating the DC power from measured irradiance\n",
    "\n",
    "effective_irradiance_ref = irr_ref['tot_irradiation'] \n",
    "temp_cell = temp['average']\n",
    "\n",
    "parameters = pvlib.pvsystem.calcparams_cec(effective_irradiance = effective_irradiance_ref, temp_cell = temp_cell, \n",
    "                                           alpha_sc = alpha_sc, a_ref = a_ref, I_L_ref = I_L_ref, I_o_ref = I_o_ref, \n",
    "                                           R_sh_ref = R_sh_ref, R_s = R_s, Adjust = adjust)\n",
    "\n",
    "photocurrent = parameters[0]           # Light generated current [A]\n",
    "saturation_current = parameters[1]     # Diode saturation current [A]\n",
    "resistance_series = parameters[2]      # Series resistance [ohm]\n",
    "resistance_shunt = parameters[3]       # Shunt resistance [ohm]\n",
    "nNsVth = parameters[4]                 # Product of diode factor, number of cells in series, and cell thermal voltage\n",
    "\n",
    "# Obtaining the IV curve for one single solar panel, including the DC power\n",
    "dc_power_singlediode_ref = pvlib.pvsystem.singlediode(photocurrent, saturation_current, resistance_series, \n",
    "                                                      resistance_shunt, nNsVth)\n",
    "\n",
    "# Obtaining the parameters in the IV curve for all 36 solar panels on the test site, including the DC power\n",
    "dc_power_singlediode_ref36 = pd.DataFrame()\n",
    "dc_power_singlediode_ref36['i_sc'] = dc_power_singlediode_ref['i_sc']\n",
    "dc_power_singlediode_ref36['i_mp'] = dc_power_singlediode_ref['i_mp']\n",
    "dc_power_singlediode_ref36['i_x'] = dc_power_singlediode_ref['i_x']\n",
    "dc_power_singlediode_ref36['i_xx'] = dc_power_singlediode_ref['i_xx']\n",
    "dc_power_singlediode_ref36['v_oc'] = 36 * dc_power_singlediode_ref['v_oc']\n",
    "dc_power_singlediode_ref36['v_mp'] = 36 * dc_power_singlediode_ref['v_mp']\n",
    "dc_power_singlediode_ref36['p_mp'] = 36 * dc_power_singlediode_ref['p_mp']"
   ]
  },
  {
   "cell_type": "code",
   "execution_count": null,
   "id": "b54d58e0",
   "metadata": {},
   "outputs": [],
   "source": [
    "# Simulating the DC power from simulated irradiance\n",
    "\n",
    "effective_irradiance = irradiance['tot_irradiation'] \n",
    "temp_cell = temp['average']\n",
    "\n",
    "parameters = pvlib.pvsystem.calcparams_cec(effective_irradiance = effective_irradiance, temp_cell = temp_cell, \n",
    "                                           alpha_sc = alpha_sc, a_ref = a_ref, I_L_ref = I_L_ref, I_o_ref = I_o_ref, \n",
    "                                           R_sh_ref = R_sh_ref, R_s = R_s, Adjust = adjust)\n",
    "\n",
    "photocurrent = parameters[0]           \n",
    "saturation_current = parameters[1]     \n",
    "resistance_series = parameters[2]      \n",
    "resistance_shunt = parameters[3]       \n",
    "nNsVth = parameters[4]                 \n",
    "\n",
    "dc_power_singlediode = pvlib.pvsystem.singlediode(photocurrent, saturation_current, resistance_series, \n",
    "                                                  resistance_shunt, nNsVth)\n",
    "\n",
    "dc_power_singlediode36 = pd.DataFrame()\n",
    "dc_power_singlediode36['i_sc'] = dc_power_singlediode['i_sc']\n",
    "dc_power_singlediode36['i_mp'] = dc_power_singlediode['i_mp']\n",
    "dc_power_singlediode36['i_x'] = dc_power_singlediode['i_x']\n",
    "dc_power_singlediode36['i_xx'] = dc_power_singlediode['i_xx']\n",
    "dc_power_singlediode36['v_oc'] = 36 * dc_power_singlediode['v_oc']\n",
    "dc_power_singlediode36['v_mp'] = 36 * dc_power_singlediode['v_mp']\n",
    "dc_power_singlediode36['p_mp'] = 36 * dc_power_singlediode['p_mp']"
   ]
  },
  {
   "cell_type": "markdown",
   "id": "6031ac03",
   "metadata": {},
   "source": [
    "### Simulating the AC power for the test site when using DC power calculated with singlediode"
   ]
  },
  {
   "cell_type": "code",
   "execution_count": null,
   "id": "519c7410",
   "metadata": {},
   "outputs": [],
   "source": [
    "pdc0_inv = 3400                  # The inverter DC input limit\n",
    "eta_inv_nom = 0.96               # Nominal efficiency of the inverter, default value\n",
    "eta_inv_ref = 0.9637             # Reference efficiency of the invcerter, default value\n",
    "\n",
    "pdc_inv_ref = dc_power_singlediode_ref36['p_mp']    # DC power into the inverter from measured irradiance\n",
    "pdc_inv = dc_power_singlediode36['p_mp']            # DC power into the inverter from simulated irradiance\n",
    "\n",
    "# Simulating the AC power from measured irradiance\n",
    "ac_power_simulated_ref = pvlib.inverter.pvwatts(pdc_inv_ref, pdc0_inv, eta_inv_nom, eta_inv_ref)\n",
    "\n",
    "# Simulating the AC power from simulated irradiance\n",
    "ac_power_simulated = pvlib.inverter.pvwatts(pdc_inv, pdc0_inv, eta_inv_nom, eta_inv_ref)"
   ]
  },
  {
   "cell_type": "markdown",
   "id": "5db60430",
   "metadata": {},
   "source": [
    "### Efficiency of the inverter"
   ]
  },
  {
   "cell_type": "code",
   "execution_count": null,
   "id": "18718170",
   "metadata": {},
   "outputs": [],
   "source": [
    "# Simulated inverter efficiency from simulated irradiance\n",
    "simulated_efficiency_ref = (ac_power_simulated_ref/dc_power_simulated_ref['p_mp']) * 100\n",
    "\n",
    "# Simulated inverter efficiency from measured irradiance\n",
    "simulated_efficiency = (ac_power_simulated/dc_power_simulated['p_mp']) * 100\n",
    "\n",
    "# Inverter efficiency from measured AC and DC power\n",
    "efficiency_inverter = ac_inverter['Inv1 Pac (W)']/dc_inverter['Str1.0 P (W)']  *100"
   ]
  },
  {
   "cell_type": "markdown",
   "id": "c5446a8c",
   "metadata": {},
   "source": [
    "For the steps above, the measured irradiance from the reference cells and the simulated irradiance from bifacial_radiance have been imported to simulate the DC and AC power. The same method was used to simulate the DC and AC power for the upper and lower limit of irradiance  due to measurement uncertianty as well."
   ]
  },
  {
   "cell_type": "markdown",
   "id": "20efcb50",
   "metadata": {},
   "source": [
    "### Cumulative sky"
   ]
  },
  {
   "cell_type": "markdown",
   "id": "54e9c8a3",
   "metadata": {},
   "source": [
    "For the results from the cumulative sky, the energy was simulated due to the monthly value for the irradiance [Wh/m2]. Therefore, the DC energy was simulated with pvwatts and the AC energy was not calculated as discussed in Section 4.8 of the master's thesis. The DC energy was simulated with the same method as the DC power."
   ]
  }
 ],
 "metadata": {
  "kernelspec": {
   "display_name": "Python 3 (ipykernel)",
   "language": "python",
   "name": "python3"
  },
  "language_info": {
   "codemirror_mode": {
    "name": "ipython",
    "version": 3
   },
   "file_extension": ".py",
   "mimetype": "text/x-python",
   "name": "python",
   "nbconvert_exporter": "python",
   "pygments_lexer": "ipython3",
   "version": "3.9.12"
  }
 },
 "nbformat": 4,
 "nbformat_minor": 5
}
