{
 "cells": [
  {
   "cell_type": "markdown",
   "id": "68511a46",
   "metadata": {},
   "source": [
    "# Angle of incidence (AOI)"
   ]
  },
  {
   "cell_type": "markdown",
   "id": "16cc612b",
   "metadata": {},
   "source": [
    "### Importing the necessary packages"
   ]
  },
  {
   "cell_type": "code",
   "execution_count": null,
   "id": "db4f00c6",
   "metadata": {},
   "outputs": [],
   "source": [
    "import numpy as np\n",
    "import pandas as pd\n",
    "import pvlib"
   ]
  },
  {
   "cell_type": "markdown",
   "id": "7cf289b4",
   "metadata": {},
   "source": [
    "### Defining the paramteres"
   ]
  },
  {
   "cell_type": "code",
   "execution_count": null,
   "id": "12dcb25b",
   "metadata": {},
   "outputs": [],
   "source": [
    "lat = 59.97315    # Latitude of the test site\n",
    "lon = 11.05166    # Longitude of the test site\n",
    "tz = 0            # Wanted timezone, UTC \n",
    "alt = 214         # Altitude\n",
    "loc = 'Kjeller'   # Location     \n",
    "\n",
    "tilt = 90         # Tilt of solar panels\n",
    "az_e = 86         # Azimuth towards east\n",
    "az_w = 266        # Azimuth towards west"
   ]
  },
  {
   "cell_type": "markdown",
   "id": "ccf982a0",
   "metadata": {},
   "source": [
    "### Calculating the AOI and corresponding (incident angle modifier) IAM"
   ]
  },
  {
   "cell_type": "code",
   "execution_count": null,
   "id": "9e30e35b",
   "metadata": {},
   "outputs": [],
   "source": [
    "data = pd.read_csv(r'path...\\filename.csv')    # Importing the file with simulated irradiance from bifacial_radiance\n",
    "data = data.set_index('Unnamed: 0')            # Setting the index\n",
    "data.index = pd.to_datetime(data.index)        # Setting the index to be date-time\n",
    "\n",
    "site = pvlib.location.Location(lat, lon, tz, alt, loc)    # Defining the location\n",
    "ephem_data = site.get_solarposition(data.index)           # Getting data about the solar position \n",
    "\n",
    "solar_zenith = ephem_data['zenith']      # Selecting the zenith angles\n",
    "solar_azimuth = ephem_data['azimuth']    # selecting the azimuth angles\n",
    "\n",
    "# Calculating the AOI for reference values\n",
    "aoi_east = pvlib.irradiance.aoi(tilt, az_e, solar_zenith, solar_azimuth)   \n",
    "aoi_west = pvlib.irradiance.aoi(tilt, az_w, solar_zenith, solar_azimuth)\n",
    "\n",
    "# Calculating the incidence angle modifier (IAM) for reference values\n",
    "iam = pvlib.iam.ashrae(aoi_east)                                           \n",
    "iam = pvlib.iam.ashrae(aoi_west)\n",
    "\n",
    "# Calculating IAM for all aoi angles\n",
    "iam_east = pvlib.iam.interp(aoi_east,\n",
    "                            [75.7835, 62.1417, 48.8441, 36.384, 63.2874, 76.7623],         # Reference angles for AOI\n",
    "                            [0.846406, 0.942999, 0.974025, 0.987693, 0.938769, 0.831635])  # Reference values for IAM \n",
    "\n",
    "iam_west = pvlib.iam.interp(aoi_west,\n",
    "                            [75.7835, 62.1417, 48.8441, 36.384, 63.2874, 76.7623], \n",
    "                            [0.846406, 0.942999, 0.974025, 0.987693, 0.938769, 0.831635])"
   ]
  },
  {
   "cell_type": "markdown",
   "id": "7cca70ec",
   "metadata": {},
   "source": [
    "### Taking losses due to AOI into account for the simulated irradiance by multplying with IAM"
   ]
  },
  {
   "cell_type": "code",
   "execution_count": null,
   "id": "45c83e6b",
   "metadata": {},
   "outputs": [],
   "source": [
    "data['east_aoi'] = data['column_name']*iam_east\n",
    "data['west_aoi'] = data['column_name']*iam_west"
   ]
  },
  {
   "cell_type": "markdown",
   "id": "78e29e83",
   "metadata": {},
   "source": [
    "The same procedure was used to calculate the AOI for the upper and lower limit of irradiance when the uncertainty in the measurements was taken into account."
   ]
  }
 ],
 "metadata": {
  "kernelspec": {
   "display_name": "Python 3 (ipykernel)",
   "language": "python",
   "name": "python3"
  },
  "language_info": {
   "codemirror_mode": {
    "name": "ipython",
    "version": 3
   },
   "file_extension": ".py",
   "mimetype": "text/x-python",
   "name": "python",
   "nbconvert_exporter": "python",
   "pygments_lexer": "ipython3",
   "version": "3.9.12"
  }
 },
 "nbformat": 4,
 "nbformat_minor": 5
}
