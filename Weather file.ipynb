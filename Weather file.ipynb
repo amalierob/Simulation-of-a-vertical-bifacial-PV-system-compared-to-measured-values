{
 "cells": [
  {
   "cell_type": "markdown",
   "id": "da89ea55",
   "metadata": {},
   "source": [
    "# Creating the weather file "
   ]
  },
  {
   "cell_type": "markdown",
   "id": "e06c6237",
   "metadata": {},
   "source": [
    "This script displays the method created to develop the weather file used as input in bifacial_radiance, both with 5-minute intervals and hourly intervals. Measured data for GHI, DHI, DNI, and albedo were extracted and used to replace clear-sky data for the defined timestamps.\n",
    "\n",
    "The script shows the weather file created is for 2023, where measured data between the 18th of January and the 31st of March is used. For the periods with measured data in 2022, the same script was used, but with different start- and end-times for the clear-sky dataframe and the measured data.\n",
    "\n",
    "This script has also been used on measured GHI, DHI, DNI, and albedo data that have been through the uncertainty analysis to create weather files for the upper and lower limit of irradiance when the measurement uncertainty has been taken into account."
   ]
  },
  {
   "cell_type": "markdown",
   "id": "5eafb146",
   "metadata": {},
   "source": [
    "### Importing necessary packages"
   ]
  },
  {
   "cell_type": "code",
   "execution_count": null,
   "id": "58c40b10",
   "metadata": {},
   "outputs": [],
   "source": [
    "import numpy as np\n",
    "import pandas as pd\n",
    "import pvlib"
   ]
  },
  {
   "cell_type": "markdown",
   "id": "54170ced",
   "metadata": {},
   "source": [
    "### Defining the parameters"
   ]
  },
  {
   "cell_type": "code",
   "execution_count": null,
   "id": "2bf3b9b4",
   "metadata": {},
   "outputs": [],
   "source": [
    "starttime = '2023-01-01'   # YYYY-mm-dd\n",
    "endtime = '2023-12-31'     # YYYY-mm-dd\n",
    "freq = '5T'                # 5-minute interval between the timestamps\n",
    "\n",
    "lat = 59.97315             # Latitude of the test site  \n",
    "lon = 11.05166             # Longitude of the test site \n",
    "tz = 0                     # Wanted timezone, UTC \n",
    "alt = 214                  # Altitude \n",
    "loc = 'Kjeller'            # Location of the test site"
   ]
  },
  {
   "cell_type": "markdown",
   "id": "0a80ec5e",
   "metadata": {},
   "source": [
    "### Calculating clear-sky values for GHI, DHI, and DNI"
   ]
  },
  {
   "cell_type": "code",
   "execution_count": null,
   "id": "b7c74d5f",
   "metadata": {},
   "outputs": [],
   "source": [
    "times = pd.date_range(start, end, freq)                   # Creating the index\n",
    "\n",
    "site = pvlib.location.Location(lat, lon, tz, alt, loc)    # Defining the location\n",
    "clearsky = site.get_clearsky(times)                       # Calculating clear-sky values for GHI, DHI, and DNI\n",
    "clearsky = clearsky.tz_localize('UTC')                    # Setting the timesone to UTC"
   ]
  },
  {
   "cell_type": "markdown",
   "id": "e811a813",
   "metadata": {},
   "source": [
    "### Creating the datafreame and filling in clear-sky values"
   ]
  },
  {
   "cell_type": "code",
   "execution_count": null,
   "id": "4db2be55",
   "metadata": {},
   "outputs": [],
   "source": [
    "clearsky_data = pd.DataFrame()\n",
    "clearsky_data['GHI'] = clearsky['ghi']\n",
    "clearsky_data['DHI'] = clearsky['dhi']\n",
    "clearsky_data['DNI'] = clearsky['dni']\n",
    "clearsky_data['Albedo' ] = 0.15"
   ]
  },
  {
   "cell_type": "markdown",
   "id": "b1065688",
   "metadata": {},
   "source": [
    "### Retrieve the measured data with a 5-minute interval "
   ]
  },
  {
   "cell_type": "code",
   "execution_count": null,
   "id": "d8a5f93f",
   "metadata": {},
   "outputs": [],
   "source": [
    "data = pd.read_csv(r'path...\\filename.csv', sep=';')                      # Importing the file with measured data\n",
    "data = data.set_index('Timestamp')                                        # Setting the timestamps to be the index\n",
    "data.index = pd.to_datetime(data.index)                                   # Converting the index to date-time\n",
    "data = data.tz_localize('CET', ambiguous = False, nonexistent = 'NaT')    # Localize timezone and handling daylight saving time\n",
    "data.loc[data.index.dropna()]                                             # Removing NaN values\n",
    "data = data.tz_convert('UTC')                                             # Converting the timezone to UTC\n",
    "\n",
    "#Renaming the needed columns to match the clearsky dataframe\n",
    "data.rename(columns = {'Roof_albedo_downwell [W/m²]':'Irradiance_upwell [W/m²]',\n",
    "                       'Roof_albedo_upwell [W/m²]':'Irradiance_downwell [W/m²]',\n",
    "                       'Solys_ghi [W/m²] - SRAD':'GHI',\n",
    "                       'Solys_dhi [W/m²] - SRAD':'DHI',\n",
    "                       'Solys_dni [W/m²] - SRAD':'DNI'}, inplace=True)\n",
    "\n",
    "data['Albedo'] = abs(data['Irradiance_upwell [W/m²]'] / data['Irradiance_downwell [W/m²]'])   # Calculating the albedo\n",
    "data['Albedo'] = data['Albedo'].replace(np.nan, 0)                                            # Setting NaN values to be 0"
   ]
  },
  {
   "cell_type": "markdown",
   "id": "9f810043",
   "metadata": {},
   "source": [
    "### Replacing the clear-sky data with measured data for the timperiode were measured data have been retrieved"
   ]
  },
  {
   "cell_type": "code",
   "execution_count": null,
   "id": "9584b61b",
   "metadata": {},
   "outputs": [],
   "source": [
    "start = '2023-01-17 23:00:00+00:00'    #Start-time for measured values with the format YYYY-MM-DD HH:mm:ss+timezone\n",
    "end = '2023-03-31 21:55:00+00:00'      #End-time for measured values with the format YYYY-MM-DD HH:mm:ss+timezone\n",
    "\n",
    "#Making a copy of the clearsky dataframe\n",
    "raw_tmy = clearsky_data.copy()      \n",
    "\n",
    "#Replacing clear-sky data with measured data for the given period of time\n",
    "for column in raw_tmy.columns:\n",
    "    if column in data.columns:\n",
    "        raw_tmy[column].loc[start:end] = data[column].loc[start:end]\n",
    "              \n",
    "#If the measued irradiance is <=0 it is set to be 0\n",
    "raw_tmy['DHI'].loc[raw_tmy['DHI'] <= 0] = 0\n",
    "raw_tmy['GHI'].loc[raw_tmy['GHI'] <= 0] = 0\n",
    "raw_tmy['DNI'].loc[raw_tmy['DNI'] <= 0] = 0"
   ]
  },
  {
   "cell_type": "markdown",
   "id": "d9b9ae0d",
   "metadata": {},
   "source": [
    "### Creating a file with the columns of a TMY-file on a 5-minute interval"
   ]
  },
  {
   "cell_type": "code",
   "execution_count": null,
   "id": "b37bf23d",
   "metadata": {},
   "outputs": [],
   "source": [
    "#Defining the column names\n",
    "tmy_columns = ['Date (MM/DD/YYYY)', 'Time (HH:MM)', 'GHI', 'DNI', 'DHI', 'Alb', 'DryBulb', 'Wspd', 'Wdir']\n",
    "\n",
    "#Filling in data in the file\n",
    "tmy_df = pd.DataFrame(index=raw_tmy.index, columns=tmy_columns, data=np.nan)    \n",
    "tmy_df['GHI'] = raw_tmy['GHI']  \n",
    "tmy_df['DNI'] = raw_tmy['DNI']\n",
    "tmy_df['DHI'] = raw_tmy['DHI']    \n",
    "tmy_df['Alb'] = raw_tmy['Albedo']    \n",
    "tmy_df['DryBulb'] = 0\n",
    "tmy_df['Wspd'] = 0  \n",
    "tmy_df['Wdir'] = 0   \n",
    "tmy_df['Date (MM/DD/YYYY)'] = raw_tmy.index.strftime('%m/%d/%Y')  \n",
    "tmy_df['Time (HH:MM)'] = raw_tmy.index.strftime('%H:%M')\n",
    "\n",
    "#Saving the file to wanted path and with the wanted filename\n",
    "tmy_df.to_csv(r'path...\\filename.csv', header = True, index = False)    "
   ]
  },
  {
   "cell_type": "markdown",
   "id": "c90650d5",
   "metadata": {},
   "source": [
    "### Creating a similar file on a hourly interval using instantaneous values"
   ]
  },
  {
   "cell_type": "code",
   "execution_count": null,
   "id": "73c6ec8f",
   "metadata": {},
   "outputs": [],
   "source": [
    "raw_tmy_hour = raw_tmy.loc[raw_tmy.index.strftime('%M:%S') == '30:00']   #Selecting hourly data for 11:30 PM, 12:30 AM etc. \n",
    "raw_tmy_hour.index = (raw_tmy_hour.index + pd.Timedelta(minutes=30))     #Converting the index to get right-handled data\n",
    "\n",
    "#Filling in data in the file\n",
    "tmy_df_hour = pd.DataFrame(index=raw_tmy_hour.index, columns=tmy_columns, data=np.nan)    \n",
    "tmy_df_hour['GHI'] = raw_tmy_hour['GHI']  \n",
    "tmy_df_hour['DNI'] = raw_tmy_hour['DNI']\n",
    "tmy_df_hour['DHI'] = raw_tmy_hour['DHI']    \n",
    "tmy_df_hour['Alb'] = raw_tmy_hour['Albedo']    \n",
    "tmy_df_hour['Date (MM/DD/YYYY)'] = raw_tmy_hour.index.strftime('%m/%d/%Y')  \n",
    "tmy_df_hour['Time (HH:MM)'] = raw_tmy_hour.index.strftime('%H:%M')\n",
    "tmy_df_hour['DryBulb'] = 0\n",
    "tmy_df_hour['Wspd'] = 0  \n",
    "tmy_df_hour['Wdir'] = 0   \n",
    "\n",
    "#Saving the file to wanted path and with the wanted filename\n",
    "tmy_df.to_csv(r'path...\\filename.csv', header = True, index = False)    "
   ]
  },
  {
   "cell_type": "markdown",
   "id": "e6eace13",
   "metadata": {},
   "source": [
    "### Printing the header which need to be added manually to the files"
   ]
  },
  {
   "cell_type": "code",
   "execution_count": null,
   "id": "a8b768ee",
   "metadata": {},
   "outputs": [],
   "source": [
    "print('Remember to manually add header: 0, Name, Country, {:}, {:}, {:}, {:}'.format(tz, latitude, longitude, altitude))"
   ]
  }
 ],
 "metadata": {
  "kernelspec": {
   "display_name": "Python 3 (ipykernel)",
   "language": "python",
   "name": "python3"
  },
  "language_info": {
   "codemirror_mode": {
    "name": "ipython",
    "version": 3
   },
   "file_extension": ".py",
   "mimetype": "text/x-python",
   "name": "python",
   "nbconvert_exporter": "python",
   "pygments_lexer": "ipython3",
   "version": "3.9.12"
  }
 },
 "nbformat": 4,
 "nbformat_minor": 5
}
