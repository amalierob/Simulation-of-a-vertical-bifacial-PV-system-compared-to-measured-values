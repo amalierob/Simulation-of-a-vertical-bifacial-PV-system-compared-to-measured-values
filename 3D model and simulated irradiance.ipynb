{
 "cells": [
  {
   "cell_type": "markdown",
   "id": "6193be8c",
   "metadata": {},
   "source": [
    "# Creating the 3D model"
   ]
  },
  {
   "cell_type": "markdown",
   "id": "8eb14798",
   "metadata": {},
   "source": [
    "###### Importing the necessary packages"
   ]
  },
  {
   "cell_type": "code",
   "execution_count": null,
   "id": "58d552c0",
   "metadata": {},
   "outputs": [],
   "source": [
    "from bifacial_radiance import *\n",
    "import os\n",
    "from pathlib import Path\n",
    "import numpy as np\n",
    "import pandas as pd\n",
    "from os import listdir"
   ]
  },
  {
   "cell_type": "markdown",
   "id": "5b6886ab",
   "metadata": {},
   "source": [
    "###### Creating a folder and folderstructure (RadianceObj)"
   ]
  },
  {
   "cell_type": "code",
   "execution_count": null,
   "id": "81bffebe",
   "metadata": {},
   "outputs": [],
   "source": [
    "# Defining the path to where the folder is found and the wanted foldername\n",
    "testfolder = r'C:\\bifacial_radiance\\...\\foldername' \n",
    "\n",
    "print (\"Your simulation will be stored in %s\" % testfolder)\n",
    "\n",
    "if not os.path.exists(testfolder):\n",
    "    os.makedirs(testfolder)\n",
    "\n",
    "# Creating the folderstructure\n",
    "demo = RadianceObj('PilotprosjektKfb',str(testfolder))"
   ]
  },
  {
   "cell_type": "markdown",
   "id": "639faaba",
   "metadata": {},
   "source": [
    "###### Creating the sky"
   ]
  },
  {
   "cell_type": "markdown",
   "id": "cf79d0ab",
   "metadata": {},
   "source": [
    "The parameters start_time and end_time are updated for every simulation as the timestamps between these two are the once the irradiance is simulated for."
   ]
  },
  {
   "cell_type": "code",
   "execution_count": null,
   "id": "a7113687",
   "metadata": {},
   "outputs": [],
   "source": [
    "start_time = '2023_02_21_2200'   # Startdate on the format YYYY_MM_DD_HHmm\n",
    "end_time = '2023_02_23_0300'     # Enddate on the format YYYY_MM_DD_HHmm"
   ]
  },
  {
   "cell_type": "code",
   "execution_count": null,
   "id": "4d0b9706",
   "metadata": {},
   "outputs": [],
   "source": [
    "# Reading the weather file \n",
    "tmy = r'path...\\filename.csv'\n",
    "metdata = demo.readWeatherFile(tmy, starttime = start_time, endtime = end_time, coerce_year = 2023) \n",
    "\n",
    "# Setting the ground object by using albedo from the weather file\n",
    "demo.setGround()"
   ]
  },
  {
   "cell_type": "code",
   "execution_count": null,
   "id": "63ab452e",
   "metadata": {},
   "outputs": [],
   "source": [
    "# Setting the geometry of the tracking system\n",
    "trackerdict = demo.set1axis(metdata = metdata,       # The weather file \n",
    "                            azimuth = 86,            # The azimuth of the test site towards east\n",
    "                            cumulativesky = False,   # Not using cumulative sky, but gendaylit1axis()\n",
    "                            fixed_tilt_angle = 90,   # The panels are tilted 90 degrees at all time, fixed tilt\n",
    "                            axis_azimuth = None)\n",
    "\n",
    "# Creating the sky files, one for each timestamp\n",
    "trackerdict = demo.gendaylit1axis()"
   ]
  },
  {
   "cell_type": "markdown",
   "id": "73ec3d08",
   "metadata": {},
   "source": [
    "For the case of cumulative sky, the parameter cumulativesky in demo.set1axis() was set to TRUE, and the command \"trackerdict = demo.gendaylit1axis()\" was replaced with the command \"trackerdict = demo.genCumSky1axis()\"."
   ]
  },
  {
   "cell_type": "markdown",
   "id": "d34c4d01",
   "metadata": {},
   "source": [
    "###### Defining the solar panels"
   ]
  },
  {
   "cell_type": "code",
   "execution_count": null,
   "id": "49342c74",
   "metadata": {},
   "outputs": [],
   "source": [
    "module_type = 'test-module' \n",
    "\n",
    "numcellsx = 14        # Number of solar cells in x-direction of one panel\n",
    "numcellsy = 1         # Number of solar cells in y-direction of one panel\n",
    "xcell = 0.083         # Width of one solar cell\n",
    "ycell = 0.165         # Height of one solar cell\n",
    "xcellgap = 0.002      # The distance between two cells in x-direction\n",
    "ycellgap = 0          # The distance between two cells in y-direction\n",
    "\n",
    "xgap = 0.266          # Distance between the two solar panels\n",
    "ygap = 0              # Distance between two solar cells in y-direction\n",
    "zgap = 0.005          \n",
    "numpanels = 1         # Number of solar panels made\n",
    "glass = True          # Glass coverage around the solar cells in one panel\n",
    "\n",
    "# Defining the solar cells that consitute one solar panel\n",
    "cellLevelModuleParams = {'numcellsx': numcellsx, \n",
    "                         'numcellsy':numcellsy, \n",
    "                         'xcell': xcell, \n",
    "                         'ycell': ycell, \n",
    "                         'xcellgap': xcellgap, \n",
    "                         'ycellgap': ycellgap}\n",
    "\n",
    "# Defining the solar panel\n",
    "mymodule = demo.makeModule(name = module_type, \n",
    "                           x = 1, \n",
    "                           y = 1, \n",
    "                           xgap = xgap, \n",
    "                           ygap = ygap, \n",
    "                           zgap = zgap, \n",
    "                           numpanels = numpanels, \n",
    "                           glass = glass, \n",
    "                           z = 0.0002)\n",
    "\n",
    "# Adding the solar cells to the solar panel\n",
    "mymodule.addCellModule(**cellLevelModuleParams)\n",
    "\n",
    "# Defining origo\n",
    "originx = 0 \n",
    "originy = 0 \n",
    "\n",
    "tilt = 90              # The tilt of the solar panels\n",
    "pitch = 0.39           # Distance between the rows of panels\n",
    "hub_height = 0.128     # The distance from the ground to the center of the solar panels\n",
    "azimuth = 86           # The azimuth of the solar panels towards east\n",
    "nMods = 4              # Number of solar panels in one row\n",
    "nRows = 9              # Number of rows with solar panels\n",
    "\n",
    "# Defining the scene with solar panels\n",
    "sceneDict = {'tilt':tilt, \n",
    "             'pitch':pitch, \n",
    "             'hub_height':hub_height, \n",
    "             'azimuth':azimuth, \n",
    "             'nMods':nMods, \n",
    "             'nRows':nRows, \n",
    "             'originx':originx, \n",
    "             'originy':originy} \n",
    "\n",
    "# Creating the scene with solar panels\n",
    "scene = demo.makeScene(module_type, sceneDict)  "
   ]
  },
  {
   "cell_type": "markdown",
   "id": "df9c125a",
   "metadata": {},
   "source": [
    "###### Adding glass to the front and the rear side of the solar panels that covers more than only the solar cells"
   ]
  },
  {
   "cell_type": "code",
   "execution_count": null,
   "id": "cde49997",
   "metadata": {},
   "outputs": [],
   "source": [
    "# Starting positions of the objects in x- and y-direction\n",
    "x_row = [1.56, 1.17, 0.78, 0.39, 0, -0.39, -0.78, -1.17, -1.56] \n",
    "y_row = [-2.04, -0.58, 0.88, 2.35] \n",
    "x_row2 = [1.556, 1.166, 0.776, 0.386, -0.004, -0.394, -0.784, -1.174, -1.564] \n",
    "\n",
    "# Iterating throug all the indexes (timestamps) in trackerdict to make the object \n",
    "for index in trackerdict.keys():\n",
    "    \n",
    "    for i, x_val in enumerate(x_row): \n",
    "        for j, y_val in enumerate(y_row): \n",
    "            \n",
    "            # Giving the object a unique name\n",
    "            name = 'GlassF{}{}'.format(i, j)\n",
    "            \n",
    "            # Defining the the object with material, size [m] and starting position\n",
    "            text = '! genbox stock_glass Glass{}{} 0.004 1.35 0.206 | xform -t {} {} 0.025'.format(i, j, x_val, y_val)    \n",
    "\n",
    "            # Creating the object\n",
    "            customObj = demo.makeCustomObject(name,text) \n",
    "            \n",
    "            # Appending the object to the scene and rotating it 4 degrees from 90 to 86 degrees\n",
    "            demo.appendtoScene(radfile = trackerdict[index]['scene'].radfiles,        \n",
    "                               customObject = customObj, text = \"!xform -rz 4\") \n",
    "\n",
    "    for i, x_val in enumerate(x_row2):\n",
    "        for j, y_val in enumerate(y_row):\n",
    "            name = 'GlassF{}{}'.format(i, j)\n",
    "            text = '! genbox stock_glass Glass{}{} 0.004 1.35 0.206 | xform -t {} {} 0.025'.format(i, j, x_val, y_val)\n",
    "\n",
    "            customObj = demo.makeCustomObject(name,text)\n",
    "            demo.appendtoScene(radfile = trackerdict[index]['scene'].radfiles, \n",
    "                               customObject = customObj, text = \"!xform -rz 4\")"
   ]
  },
  {
   "cell_type": "markdown",
   "id": "67753eba",
   "metadata": {},
   "source": [
    "###### Adding rails to the panels"
   ]
  },
  {
   "cell_type": "code",
   "execution_count": null,
   "id": "304057f0",
   "metadata": {},
   "outputs": [],
   "source": [
    "x_row = [-1.8]\n",
    "y_ende = [-2.07, 3.7]\n",
    "y_midt = [-0.66, 0.8, 2.26]\n",
    "\n",
    "for index in trackerdict.keys():\n",
    "    \n",
    "    for i, x_val in enumerate(x_row):\n",
    "        for j, y_val in enumerate(y_ende):\n",
    "            name = 'Skinneende{}{}'.format(i, j)\n",
    "            text = '! genbox Metal_Grey Skinneende{}{} 3.608 0.03 0.02 | xform -t {} {} 0.0'.format(i, j, x_val, y_val)\n",
    "\n",
    "            customObj = demo.makeCustomObject(name,text)\n",
    "            demo.appendtoScene(radfile = trackerdict[index]['scene'].radfiles, \n",
    "                               customObject = customObj, text = \"!xform -rz 4\")\n",
    "\n",
    "    for i, x_val in enumerate(x_row):\n",
    "        for j, y_val in enumerate(y_midt):\n",
    "            name = 'Skinnemidt{}{}'.format(i, j)\n",
    "            text = '! genbox Metal_Grey Skinnemidt{}{} 3.608 0.066 0.02 | xform -t {} {} 0.0'.format(i, j, x_val, y_val)\n",
    "\n",
    "            customObj = demo.makeCustomObject(name,text)\n",
    "            demo.appendtoScene(radfile = trackerdict[index]['scene'].radfiles, \n",
    "                               customObject = customObj, text = \"!xform -rz 4\")"
   ]
  },
  {
   "cell_type": "markdown",
   "id": "4d4b210d",
   "metadata": {},
   "source": [
    "###### Adding a box to the right side of the glass (from the east side)"
   ]
  },
  {
   "cell_type": "code",
   "execution_count": null,
   "id": "cc03bfdf",
   "metadata": {},
   "outputs": [],
   "source": [
    "x_row = [1.56, 1.17, 0.78, 0.39, 0, -0.39, -0.78, -1.17, -1.56] \n",
    "y_row = [-0.81, 0.65, 2.11, 3.58] \n",
    "\n",
    "for index in trackerdict.keys():\n",
    "\n",
    "    for i, x_val in enumerate(x_row):\n",
    "\n",
    "        for j, y_val in enumerate(y_row):\n",
    "            name = 'BoxF{}{}'.format(i, j)\n",
    "            text = '! genbox black Box{}{} 0.025 0.064 0.064 | xform -t {} {} 0.128'.format(i, j, x_val, y_val) \n",
    "\n",
    "            customObj = demo.makeCustomObject(name,text)\n",
    "            demo.appendtoScene(radfile = trackerdict[index]['scene'].radfiles, \n",
    "                               customObject = customObj, text = \"!xform -rz 4\")"
   ]
  },
  {
   "cell_type": "markdown",
   "id": "c654dcd0",
   "metadata": {},
   "source": [
    "###### Adding L-shaped metal between the rails and panels"
   ]
  },
  {
   "cell_type": "code",
   "execution_count": null,
   "id": "28bdc746",
   "metadata": {},
   "outputs": [],
   "source": [
    "i = 0.03 \n",
    "\n",
    "x_row = [1.54, 1.15, 0.76, 0.37, -0.02, -0.41, -0.80, -1.19, -1.58] \n",
    "y_rowv = [-2.04-i, -0.58-i, 0.88-i, 2.35-i] \n",
    "y_rowh = [-0.75+i, 0.71+i, 2.17+i, 3.64+i]\n",
    "y_row = [-2.04, -0.69, -0.58, 0.77, 0.88, 2.23, 2.35, 3.7]\n",
    "\n",
    "for index in trackerdict.keys():\n",
    "\n",
    "    for i, x_val in enumerate(x_row):\n",
    "\n",
    "        for j, y_val in enumerate(y_rowv):\n",
    "            name = 'L_shapeB{}{}'.format(i, j)\n",
    "            text = '! genbox black L_shapeB{}{} 0.039 0.07 0.003 | xform -t {} {} 0.02'.format(i, j, x_val, y_val)\n",
    "\n",
    "            customObj = demo.makeCustomObject(name,text)\n",
    "            demo.appendtoScene(radfile = trackerdict[index]['scene'].radfiles, \n",
    "                               customObject = customObj, text = \"!xform -rz 4\")\n",
    "\n",
    "        for j, y_val in enumerate(y_rowh):\n",
    "            name = 'L_shapeBV{}{}'.format(i, j)\n",
    "            text = '! genbox black L_shapeBV{}{} 0.039 0.07 0.003 | xform -t {} {} 0.02'.format(i, j, x_val, y_val)\n",
    "\n",
    "            customObj = demo.makeCustomObject(name,text)\n",
    "            demo.appendtoScene(radfile = trackerdict[index]['scene'].radfiles, \n",
    "                               customObject = customObj, text = \"!xform -rz 4\")\n",
    "\n",
    "        for j, y_val in enumerate(y_row):\n",
    "            name = 'L_shapeT{}{}'.format(i, j)\n",
    "            text = '! genbox black L_shapeT{}{} 0.039 0.003 0.08 | xform -t {} {} 0.02'.format(i, j, x_val, y_val)\n",
    "\n",
    "            customObj = demo.makeCustomObject(name,text)\n",
    "            demo.appendtoScene(radfile = trackerdict[index]['scene'].radfiles, \n",
    "                               customObject = customObj, text = \"!xform -rz 4\")"
   ]
  },
  {
   "cell_type": "markdown",
   "id": "e4783bd1",
   "metadata": {},
   "source": [
    "###### Adding reference cells to the PV system"
   ]
  },
  {
   "cell_type": "code",
   "execution_count": null,
   "id": "e5279044",
   "metadata": {},
   "outputs": [],
   "source": [
    "x_row19 = [1.55, -1.57]\n",
    "x_row5 = [0]\n",
    "y_row19 = [2.25]\n",
    "y_row5 = [0.78]\n",
    "\n",
    "for index in trackerdict.keys():\n",
    "    \n",
    "    for i, x_val in enumerate(x_row19):\n",
    "        for j, y_val in enumerate(y_row19):\n",
    "            name = 'Referansecelle{}{}'.format(i, j)\n",
    "            text = '! genbox black Referansecelle{}{} 0.03 0.079 0.119 | xform -t {} {} 0.112'.format(i, j, x_val, y_val)\n",
    "\n",
    "            customObj = demo.makeCustomObject(name,text)\n",
    "            demo.appendtoScene(radfile = trackerdict[index]['scene'].radfiles, \n",
    "                               customObject = customObj, text = \"!xform -rz 4\")\n",
    "\n",
    "    for i, x_val in enumerate(x_row5):\n",
    "        for j, y_val in enumerate(y_row5):\n",
    "            name = 'ReferansecelleM{}{}'.format(i, j)\n",
    "            text = '! genbox black ReferansecelleM{}{} 0.03 0.079 0.119 | xform -t {} {} 0.112'.format(i, j, x_val, y_val)\n",
    "\n",
    "            customObj = demo.makeCustomObject(name,text)\n",
    "            demo.appendtoScene(radfile = trackerdict[index]['scene'].radfiles, \n",
    "                               customObject = customObj, text = \"!xform -rz 4\")"
   ]
  },
  {
   "cell_type": "markdown",
   "id": "3a6a7877",
   "metadata": {},
   "source": [
    "###### Making an octfile - combining the ground, the sky and the scene objects"
   ]
  },
  {
   "cell_type": "code",
   "execution_count": null,
   "id": "3c66d4e8",
   "metadata": {},
   "outputs": [],
   "source": [
    "octfile = demo.makeOct1axis(trackerdict)"
   ]
  },
  {
   "cell_type": "markdown",
   "id": "3d869e39",
   "metadata": {},
   "source": [
    "# Simulating the irradiance on the three reference cell positions"
   ]
  },
  {
   "cell_type": "code",
   "execution_count": null,
   "id": "e9bea334",
   "metadata": {},
   "outputs": [],
   "source": [
    "analysis = AnalysisObj(octfile, demo.basename) "
   ]
  },
  {
   "cell_type": "markdown",
   "id": "ca285466",
   "metadata": {},
   "source": [
    "###### Simulating irradiance on reference cell 1"
   ]
  },
  {
   "cell_type": "code",
   "execution_count": null,
   "id": "e5b29487",
   "metadata": {},
   "outputs": [],
   "source": [
    "# Looping through the keys of trackerdict\n",
    "for timess in trackerdict.keys():    \n",
    "    \n",
    "    # Doing a front- and backscan \n",
    "    frontscan, backscan = analysis.moduleAnalysis(trackerdict[timess]['scene']) \n",
    "    \n",
    "    frontscan1 = frontscan\n",
    "    backscan1 = backscan\n",
    "    \n",
    "    frontscan1['xstart'] = 1.46     # Position of sensor in x-direction on the east side of reference cell 1\n",
    "    frontscan1['ystart'] = 2.39     # Position of sensor in y-direction on the east side of reference cell 1\n",
    "    frontscan1['zstart'] = 0.18     # Position of sensor in z-direction on the east side of reference cell 1\n",
    "    \n",
    "    frontscan1['Nx'] = 1            # Number of sensors in x-direction\n",
    "    frontscan1['Ny'] = 1            # Number of sensors in y-direction\n",
    "    frontscan1['Nz'] = 1            # Number of sensors in z-direction\n",
    "    \n",
    "    backscan1['xstart'] = 1.34      # Position of sensor in x-direction on the west side of reference cell 1\n",
    "    backscan1['ystart'] = 2.38      # Position of sensor in y-direction on the west side of reference cell 1\n",
    "    backscan1['zstart'] = 0.18      # Position of sensor in z-direction on the west side of reference cell 1\n",
    "    \n",
    "    backscan1['Nx'] = 1\n",
    "    backscan1['Ny'] = 1\n",
    "    backscan1['Nz'] = 1\n",
    "    \n",
    "    # Simulating the irradiance for the given sensor positions and saving the results \n",
    "    results = analysis.analysis(trackerdict[timess]['octfile'], demo.basename + '_referansecelle1_'+str(timess), \n",
    "                                frontscan1, backscan1)"
   ]
  },
  {
   "cell_type": "code",
   "execution_count": null,
   "id": "ca395e8a",
   "metadata": {},
   "outputs": [],
   "source": [
    "dates1 = []      # Creating an empty list for the dates\n",
    "values1 = []     # Creating an empty list for the irradiance on the east side (front) of the reference cell\n",
    "values11 = []    # Creating an empty list for the irradiance on the west side (back) of the reference cell\n",
    "\n",
    "for filename in listdir(testfolder + r'\\results'):  # Looping thorough the files in testfolder\n",
    "    if '_referansecelle1_' in filename:             # If '_referansecelle1_' is in the filename the code below is runned\n",
    "        print(filename) \n",
    "            \n",
    "        year = filename[37:41]     # Selecting the letterpositions for the year\n",
    "        day = filename[45:47]      # Selecting the letterpositions for the day\n",
    "        month = filename[42:44]    # Selecting the letterpositions for the month\n",
    "        hour = filename[48:50]     # Selecting the letterpositions for the hour\n",
    "\n",
    "        dates1.append((pd.to_datetime('{}-{}-{} {}:00:00'.format(year, month, day, hour))))  # Adding the dates to dates1\n",
    "        temp1_df = pd.read_csv(testfolder+'\\\\results\\\\'+filename)                            # Reading the irradiance results\n",
    "        values1.append(temp1_df['Wm2Front'].values[0])                                       # Adding the irradiance to values1\n",
    "        values11.append(temp1_df['Wm2Back'].values[0])                                       # Adding the irradiance to values11\n",
    "\n",
    "# Crating a dataframe with the dates as index and columns including the irradiance on the east side as front and irradiance\n",
    "# on the west side as back and then forcing the frequency to be an hour so timestamps without light are also included, but\n",
    "# filled with NaN values\n",
    "data1_df_temp = pd.DataFrame(index = dates1, data = {'front': values1, 'back': values11}) \n",
    "data1_df = data1_df_temp.asfreq('60T')"
   ]
  },
  {
   "cell_type": "markdown",
   "id": "4aed7254",
   "metadata": {},
   "source": [
    "###### Simulating irradiance on reference cell 2"
   ]
  },
  {
   "cell_type": "code",
   "execution_count": null,
   "id": "6973e483",
   "metadata": {},
   "outputs": [],
   "source": [
    "for timess in trackerdict.keys():\n",
    "    \n",
    "    frontscan, backscan = analysis.moduleAnalysis(trackerdict[timess]['scene'])\n",
    "    \n",
    "    frontscan2 = frontscan\n",
    "    backscan2 = backscan\n",
    "    \n",
    "    frontscan2['xstart'] = -0.01\n",
    "    frontscan2['ystart'] = 0.82\n",
    "    frontscan2['zstart'] = 0.18\n",
    "    \n",
    "    frontscan2['Nx'] = 1\n",
    "    frontscan2['Ny'] = 1\n",
    "    frontscan2['Nz'] = 1\n",
    "    \n",
    "    backscan2['xstart'] = -0.12\n",
    "    backscan2['ystart' ] = 0.79\n",
    "    backscan2['zstart'] = 0.18\n",
    "    \n",
    "    backscan2['Nx'] = 1\n",
    "    backscan2['Ny'] = 1\n",
    "    backscan2['Nz'] = 1\n",
    "    \n",
    "    results = analysis.analysis(trackerdict[timess]['octfile'], demo.basename + '_referansecelle2_'+str(timess), \n",
    "                                frontscan2, backscan2)"
   ]
  },
  {
   "cell_type": "code",
   "execution_count": null,
   "id": "8ebd7d18",
   "metadata": {},
   "outputs": [],
   "source": [
    "dates2 = []\n",
    "values2 = []\n",
    "values22 = []\n",
    "\n",
    "for filename in listdir(testfolder + r'\\results'):\n",
    "    if '_referansecelle2_' in filename: \n",
    "        print(filename)\n",
    "        \n",
    "        year = filename[37:41]\n",
    "        day = filename[45:47]\n",
    "        month = filename[42:44]\n",
    "        hour = filename[48:50]   \n",
    "            \n",
    "        dates2.append((pd.to_datetime('{}-{}-{} {}:00:00'.format(year, month, day, hour))))\n",
    "        temp2_df = pd.read_csv(testfolder+'\\\\results\\\\'+filename)\n",
    "        values2.append(temp2_df['Wm2Front'].values[0])\n",
    "        values22.append(temp2_df['Wm2Back'].values[0])\n",
    "        \n",
    "data2_df_temp = pd.DataFrame(index = dates2, data = {'front': values2, 'back': values22})\n",
    "data2_df = data2_df_temp.asfreq('60T')"
   ]
  },
  {
   "cell_type": "markdown",
   "id": "1c3dcd4b",
   "metadata": {},
   "source": [
    "###### Simulating irradiance on reference cell 3"
   ]
  },
  {
   "cell_type": "code",
   "execution_count": null,
   "id": "0b6cd477",
   "metadata": {},
   "outputs": [],
   "source": [
    "for timess in trackerdict.keys():\n",
    "    \n",
    "    frontscan, backscan = analysis.moduleAnalysis(trackerdict[timess]['scene'])\n",
    "\n",
    "    frontscan3 = frontscan\n",
    "    backscan3 = backscan\n",
    "    \n",
    "    frontscan3['xstart'] = -1.67\n",
    "    frontscan3['ystart'] = 2.17\n",
    "    frontscan3['zstart'] = 0.18\n",
    "    \n",
    "    frontscan3['Nx'] = 1\n",
    "    frontscan3['Ny'] = 1\n",
    "    frontscan3['Nz'] = 1\n",
    "    \n",
    "    backscan3['xstart'] = -1.77\n",
    "    backscan3['ystart' ] = 2.17\n",
    "    backscan3['zstart'] = 0.18\n",
    "    \n",
    "    backscan3['Nx'] = 1\n",
    "    backscan3['Ny'] = 1\n",
    "    backscan3['Nz'] = 1\n",
    "    \n",
    "    results = analysis.analysis(trackerdict[timess]['octfile'], demo.basename + '_referansecelle3_'+str(timess), \n",
    "                                frontscan3, backscan3)"
   ]
  },
  {
   "cell_type": "code",
   "execution_count": null,
   "id": "5437903c",
   "metadata": {},
   "outputs": [],
   "source": [
    "dates3 = []\n",
    "values3 = []\n",
    "values33 = []\n",
    "\n",
    "for filename in listdir(testfolder + r'\\results'):\n",
    "    if '_referansecelle3_' in filename:\n",
    "        print(filename)\n",
    "        \n",
    "        year = filename[37:41]\n",
    "        day = filename[45:47]\n",
    "        month = filename[42:44]\n",
    "        hour = filename[48:50]  \n",
    "           \n",
    "        dates3.append((pd.to_datetime('{}-{}-{} {}:00:00'.format(year, month, day, hour))))\n",
    "        temp3_df = pd.read_csv(testfolder+'\\\\results\\\\'+filename)\n",
    "        values3.append(temp3_df['Wm2Front'].values[0])\n",
    "        values33.append(temp3_df['Wm2Back'].values[0])\n",
    "    \n",
    "data3_df_temp = pd.DataFrame(index = dates3, data = {'front': values3, 'back':values33})\n",
    "data3_df = data3_df_temp.asfreq('60T')"
   ]
  },
  {
   "cell_type": "markdown",
   "id": "8af6cb20",
   "metadata": {},
   "source": [
    "###### Saving the irradiance results in wanted folder with a filename"
   ]
  },
  {
   "cell_type": "code",
   "execution_count": null,
   "id": "897da19b",
   "metadata": {},
   "outputs": [],
   "source": [
    "data1_df.to_csv(r'path...\\filename.csv')\n",
    "data2_df.to_csv(r'path...\\filename.csv')\n",
    "data3_df.to_csv(r'path...\\filename.csv')"
   ]
  },
  {
   "cell_type": "markdown",
   "id": "d83a6809",
   "metadata": {},
   "source": [
    "The steps where data1_df, data2_df, and data3_df were skipped when simulating cumulative sky, instead the results in each for-loop when doing front- and backscan was saved because cumulative sky gives one irradiance value on the east and west side of the reference cell for the given time period and therefore, do not require a frequency to force NaN values when there is no light."
   ]
  },
  {
   "cell_type": "code",
   "execution_count": null,
   "id": "8faf7e1b",
   "metadata": {},
   "outputs": [],
   "source": []
  }
 ],
 "metadata": {
  "kernelspec": {
   "display_name": "Python 3 (ipykernel)",
   "language": "python",
   "name": "python3"
  },
  "language_info": {
   "codemirror_mode": {
    "name": "ipython",
    "version": 3
   },
   "file_extension": ".py",
   "mimetype": "text/x-python",
   "name": "python",
   "nbconvert_exporter": "python",
   "pygments_lexer": "ipython3",
   "version": "3.9.12"
  }
 },
 "nbformat": 4,
 "nbformat_minor": 5
}
