{
 "cells": [
  {
   "cell_type": "markdown",
   "id": "b5b49224",
   "metadata": {},
   "source": [
    "# Uncertainty analysis of measured irradiance"
   ]
  },
  {
   "cell_type": "markdown",
   "id": "38b8b7f8",
   "metadata": {},
   "source": [
    "This script defines the functions used to perform a measurement uncertainty analysis on the GHI DHI, DNI, and albedo measurements retrieved from the pyranometers and pyrheliometer at the test site. These functions have been developed in a master's thesis written in the spring of 2021 and can be found on the GitHub repository  [Performance-modeling-of-Bifacial-PV-Power-Plants-in-a-Nordic-Climate](https://github.com/Dina-CM/Performance-modeling-of-Bifacial-PV-Power-Plants-in-a-Nordic-Climate).\n",
    "\n",
    "After the analysis was performed on data, the GHI DHI, DNI, and albedo measurements were corrected with the measurement uncertainty. The results were implemented into dataframes that were used to create weather files."
   ]
  },
  {
   "cell_type": "markdown",
   "id": "5a6a75d5",
   "metadata": {},
   "source": [
    "### Importing the necessary packages"
   ]
  },
  {
   "cell_type": "code",
   "execution_count": null,
   "id": "77536ac5",
   "metadata": {},
   "outputs": [],
   "source": [
    "import numpy as np\n",
    "import pandas as pd\n",
    "import pvlib"
   ]
  },
  {
   "cell_type": "markdown",
   "id": "ca329d2c",
   "metadata": {},
   "source": [
    "### The functions for measurement uncertianty"
   ]
  },
  {
   "cell_type": "markdown",
   "id": "68d48bb7",
   "metadata": {},
   "source": [
    "uncertainty_measured_SMP10() were used for the pyranometer measurements, in other words the GHI, DHI and albedo.\n",
    "uncertainty_measured_SHP1() were used for the pyrheliometer measurements, in other words the DNI."
   ]
  },
  {
   "cell_type": "code",
   "execution_count": null,
   "id": "2363deb0",
   "metadata": {},
   "outputs": [],
   "source": [
    "def uncertainty_measured_SMP10(data, col_name, latitude, longitude, tz, altitude):\n",
    "    \n",
    "    S = 10.91                               # [$\\micro$V/(W/m²)] Sensitivity\n",
    "    zero_A = (7 / np.sqrt(3)) / 2           # [W/m²] Offset - Thermal radiation: rectangular distribution, one-sided\n",
    "    zero_B = 2 / np.sqrt(3)                 # [W/m²] Offset - Temperature dependence: rectangular distribution, symmetric\n",
    "    dir_resp = 10 / np.sqrt(3)              # [W/m²] Directional response: rectangular distribution, symmetric\n",
    "    calibration = 1.39 / 3                  # [%] Calibration uncertainty: normal distribution, symmetric\n",
    "    non_stability = 0.5 / np.sqrt(3)        # [%] Stability deviation per year: rectangular, symmetric\n",
    "    non_linearity = 0.2 / np.sqrt(3)        # [%] Non-linearity: rectangular, symmetric\n",
    "    tempe_resp = 1 / np.sqrt(3)             # [%] Temperature response: rectangular, symmetric\n",
    "    datalogger = 0\n",
    "    \n",
    "    site = pvlib.location.Location(latitude, longitude, tz, altitude, 'Kjeller')\n",
    "    ephem = site.get_solarposition(data.index)\n",
    "\n",
    "    dir_resp_adjusted = (data[col_name]*dir_resp)/(1000*np.radians(ephem['apparent_elevation']))\n",
    "    zero_A_adjusted = zero_A/100 * data[col_name]\n",
    "    zero_B_adjusted = zero_B /100 * data[col_name]\n",
    "    datalogger_adjusted = datalogger/100 * data[col_name]\n",
    "\n",
    "    cs = np.abs(-(data[col_name]*S)/S**2)\n",
    "    u_s = np.sqrt((calibration/100 * S)**2 + (non_stability/100 * S)**2 + (non_linearity/100 * S)**2 + (tempe_resp/100 * S)**2)\n",
    "    cv = np.abs(1/S)\n",
    "    u_v = np.sqrt(datalogger_adjusted**2)\n",
    "    Uc1 = (cv*u_v)**2 + (cs*u_s)**2\n",
    "    Uc2 = np.sqrt(zero_A_adjusted**2 + zero_B_adjusted**2 + (dir_resp_adjusted )**2 )\n",
    "    Uc = np.sqrt(Uc1 + Uc2)\n",
    "    UE = 2*Uc # k = 2 coverage factor\n",
    "    data['UE_' + col_name] = UE\n",
    "    \n",
    "    return data"
   ]
  },
  {
   "cell_type": "code",
   "execution_count": null,
   "id": "0c2d9265",
   "metadata": {},
   "outputs": [],
   "source": [
    "def uncertainty_measured_SHP1(data, col_name):\n",
    "        S = 9.08                                # [$\\micro$V/(W/m²)] Sensitivity\n",
    "        Offset = (1 / np.sqrt(3)) / 2           # [W/m²] Offset: rectangular distribution, symmetric\n",
    "        tempe_resp = 0.5/np.sqrt(3)             # [%] Temperature response: rectangular, symmetric\n",
    "        non_linearity = 0.2 / np.sqrt(3)        # [%] Non-linearity: rectangular, symmetric\n",
    "        non_stability = 0.5 / np.sqrt(3)        # [%] Stability deviation per year: rectangular, symmetric\n",
    "        calibration = 0                         # [%] Calibration uncertainty: normal distribution, symmetric\n",
    "        datalogger = 0\n",
    "\n",
    "        offsett_adjusted = Offset / 100 * data[col_name]\n",
    "        datalogger_adjusted = datalogger / 100 * data[col_name]\n",
    "\n",
    "        cs = np.abs(-(data[col_name] * S) / S ** 2)\n",
    "        u_s = np.sqrt(((non_linearity / 100 * S) ** 2 + (non_stability/100 * S)**2 + (tempe_resp / 100 * S) ** 2) \n",
    "                      + (calibration/100 * S)**2 )\n",
    "        \n",
    "        cv = np.abs(1 / S)\n",
    "        u_v = np.sqrt(datalogger_adjusted ** 2)\n",
    "        Uc1 = (cv * u_v) ** 2 + (cs * u_s) ** 2\n",
    "        Uc2 = np.sqrt(offsett_adjusted ** 2 )\n",
    "        Uc = np.sqrt(Uc1 + Uc2)\n",
    "        UE = 2 * Uc + 5 + (0.025 * data[col_name])  # k = 2 \n",
    "        data['UE_' + col_name] = UE\n",
    "        \n",
    "        return data"
   ]
  },
  {
   "cell_type": "markdown",
   "id": "a7ae7de3",
   "metadata": {},
   "source": [
    "### Importing data for the uncertainty analysis"
   ]
  },
  {
   "cell_type": "code",
   "execution_count": null,
   "id": "78a09041",
   "metadata": {},
   "outputs": [],
   "source": [
    "data = pd.read_csv(r'path.../filename.csv', sep=';')                     # Importing the file with data\n",
    "data = data.set_index('Timestamp')                                       # Setting the timestamps to be the index\n",
    "data.index = pd.to_datetime(data.index)                                  # Converting index to date-time\n",
    "data = data.tz_localize('CET', ambiguous = False, nonexistent = 'NaT')   # Localize timezone and handling daylight saving time\n",
    "data.loc[data.index.dropna()]                                            # Removing NaN values\n",
    "data = data.tz_convert('UTC')                                            # Converting the timezone to UTC\n",
    "\n",
    "# Renaming columns in the dataframe\n",
    "data.rename(columns = {'Roof_albedo_downwell [W/m²]':'albedo_ned',\n",
    "                       'Roof_albedo_upwell [W/m²]':'albedo_opp',\n",
    "                       'Solys_ghi [W/m²]':'GHI',\n",
    "                       'Solys_dhi [W/m²]':'DHI',\n",
    "                       'Solys_dni [W/m²]':'DNI'}, inplace=True)"
   ]
  },
  {
   "cell_type": "markdown",
   "id": "20375b0d",
   "metadata": {},
   "source": [
    "### Creating a dataframe and inserting the necessary data"
   ]
  },
  {
   "cell_type": "code",
   "execution_count": null,
   "id": "214651ae",
   "metadata": {},
   "outputs": [],
   "source": [
    "irradiance = pd.DataFrame()\n",
    "\n",
    "irradiance['GHI'] = data['GHI']\n",
    "irradiance['DHI'] = data['DHI']\n",
    "irradiance['DNI'] = data['DNI']\n",
    "irradiance['Albedo_ned'] = data['albedo_ned']\n",
    "irradiance['Albedo_opp'] = data['albedo_opp']\n",
    "irradiance['Albedo'] = data['albedo_opp'] / data['albedo_ned']"
   ]
  },
  {
   "cell_type": "markdown",
   "id": "f101c00f",
   "metadata": {},
   "source": [
    "### Performing uncertianty analysis on the data for the test site "
   ]
  },
  {
   "cell_type": "code",
   "execution_count": null,
   "id": "03d84543",
   "metadata": {},
   "outputs": [],
   "source": [
    "lat = 59.97315     # Latitude of the position of the PV system  \n",
    "lon = 11.05166     # Longitude of the position of the PV system \n",
    "tz = 0             # Wanted timezone, UTC \n",
    "alt = 214          # Altitude\n",
    "\n",
    "data_uncertainty = uncertainty_measured_SMP10(irradiance, 'GHI', lat, lon, tz, alt) \n",
    "data_uncertainty = uncertainty_measured_SMP10(irradiance, 'DHI', lat, lon, tz, alt) \n",
    "data_uncertainty = uncertainty_measured_SMP10(irradiance, 'Albedo_opp', lat, lon, tz, alt) \n",
    "data_uncertainty = uncertainty_measured_SMP10(irradiance, 'Albedo_ned', lat, lon, tz, alt) \n",
    "data_uncertainty = uncertainty_measured_SHP1(innstråling, 'DNI') "
   ]
  },
  {
   "cell_type": "markdown",
   "id": "2f653152",
   "metadata": {},
   "source": [
    "### Calculating the measurement uncertianty in albedo from the measurement uncertianty in upward and downward irradiance"
   ]
  },
  {
   "cell_type": "code",
   "execution_count": null,
   "id": "272140fc",
   "metadata": {},
   "outputs": [],
   "source": [
    "data_uncertainty['UE_albedo'] = (1/data_uncertainty['Albedo_ned']) * np.sqrt(((data_uncertainty['Albedo_opp'] /\n",
    "                                                                               data_uncertainty['Albedo_ned']) * \n",
    "                                                                               data_uncertainty['UE_Albedo_opp'])**2 + \n",
    "                                                                              (data_uncertainty['UE_Albedo_ned'])**2)"
   ]
  },
  {
   "cell_type": "markdown",
   "id": "bff3937a",
   "metadata": {},
   "source": [
    "### Calculating the lower and upper limit of irradiance where the measurement uncertianty is taken into account by subdtracting and adding to the measured irradiance"
   ]
  },
  {
   "cell_type": "code",
   "execution_count": null,
   "id": "bf529431",
   "metadata": {},
   "outputs": [],
   "source": [
    "data_uncertainty['min GHI'] = data_uncertainty['GHI'] - data_uncertainty['UE_GHI']\n",
    "data_uncertainty['min DNI'] = data_uncertainty['DNI'] - data_uncertainty['UE_DNI']\n",
    "data_uncertainty['min DHI'] = data_uncertainty['DHI'] - data_uncertainty['UE_DHI']\n",
    "data_uncertainty['Albedo_min'] = data_uncertainty['Albedo'] - data_uncertainty['UE_albedo']\n",
    "\n",
    "data_uncertainty['maks GHI'] = data_uncertainty['GHI'] + data_uncertainty['UE_GHI']\n",
    "data_uncertainty['maks DNI'] = data_uncertainty['DNI'] + data_uncertainty['UE_DNI']\n",
    "data_uncertainty['maks DHI'] = data_uncertainty['DHI'] + data_uncertainty['UE_DHI']\n",
    "data_uncertainty['Albedo_max'] = data_uncertainty['Albedo'] + data_uncertainty['UE_albedo']"
   ]
  },
  {
   "cell_type": "markdown",
   "id": "2cb43002",
   "metadata": {},
   "source": [
    "### Saving the upper and lower limit of irradiance in two dataframes "
   ]
  },
  {
   "cell_type": "code",
   "execution_count": null,
   "id": "522e6a90",
   "metadata": {},
   "outputs": [],
   "source": [
    "minimal = pd.DataFrame()\n",
    "maximal = pd.DataFrame()\n",
    "\n",
    "minimal['GHI'] = data_uncertainty['min GHI']\n",
    "minimal['DHI'] = data_uncertainty['min DHI']\n",
    "minimal['DNI'] = data_uncertainty['min DNI']\n",
    "minimal['Albedo'] = data_uncertainty['Albedo_min']\n",
    "\n",
    "minimal.to_csv(r'path...\\filename.csv')    \n",
    "\n",
    "maximal['GHI'] = data_uncertainty['maks GHI']\n",
    "maximal['DHI'] = data_uncertainty['maks DHI']\n",
    "maximal['DNI'] = data_uncertainty['maks DNI']\n",
    "maximal['Albedo'] = data_uncertainty['Albedo_max']\n",
    "\n",
    "maximal.to_csv(r'path...\\filename.csv')    "
   ]
  },
  {
   "cell_type": "markdown",
   "id": "a19341b8",
   "metadata": {},
   "source": [
    "The two dataframes minimal and maximal can be imported as data to make a weather file."
   ]
  }
 ],
 "metadata": {
  "kernelspec": {
   "display_name": "Python 3 (ipykernel)",
   "language": "python",
   "name": "python3"
  },
  "language_info": {
   "codemirror_mode": {
    "name": "ipython",
    "version": 3
   },
   "file_extension": ".py",
   "mimetype": "text/x-python",
   "name": "python",
   "nbconvert_exporter": "python",
   "pygments_lexer": "ipython3",
   "version": "3.9.12"
  }
 },
 "nbformat": 4,
 "nbformat_minor": 5
}
